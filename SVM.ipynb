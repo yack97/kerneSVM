{
 "cells": [
  {
   "cell_type": "code",
   "id": "initial_id",
   "metadata": {
    "collapsed": true,
    "ExecuteTime": {
     "end_time": "2024-08-30T00:00:23.423625Z",
     "start_time": "2024-08-29T23:59:52.400195Z"
    }
   },
   "source": [
    "import numpy as np\n",
    "import pandas as pd"
   ],
   "outputs": [],
   "execution_count": 2
  },
  {
   "metadata": {
    "ExecuteTime": {
     "end_time": "2024-08-30T00:03:40.516853Z",
     "start_time": "2024-08-30T00:02:45.786246Z"
    }
   },
   "cell_type": "code",
   "source": [
    "import matplotlib.pyplot as plt\n",
    "from sklearn import datasets\n",
    "%matplotlib inline  \n",
    "from sklearn.model_selection import train_test_split\n",
    "from sklearn.svm import SVC\n",
    "from  sklearn.preprocessing import StandardScaler\n",
    "from sklearn.metrics import  accuracy_score, classification_report, confusion_matrix"
   ],
   "id": "deb95547d106d232",
   "outputs": [],
   "execution_count": 3
  },
  {
   "metadata": {
    "ExecuteTime": {
     "end_time": "2024-08-30T00:04:15.275413Z",
     "start_time": "2024-08-30T00:04:13.941140Z"
    }
   },
   "cell_type": "code",
   "source": "import seaborn as sns",
   "id": "350644d43c9a4447",
   "outputs": [],
   "execution_count": 4
  },
  {
   "metadata": {
    "ExecuteTime": {
     "end_time": "2024-08-30T00:05:19.775194Z",
     "start_time": "2024-08-30T00:05:19.734209Z"
    }
   },
   "cell_type": "code",
   "source": "iris = iris = datasets.load_iris()",
   "id": "68a11e5b3036169",
   "outputs": [],
   "execution_count": 5
  },
  {
   "metadata": {
    "ExecuteTime": {
     "end_time": "2024-08-30T00:05:52.583448Z",
     "start_time": "2024-08-30T00:05:52.568548Z"
    }
   },
   "cell_type": "code",
   "source": [
    "X=iris.data\n",
    "y=iris.target"
   ],
   "id": "e242c7c6b497602f",
   "outputs": [],
   "execution_count": 7
  },
  {
   "metadata": {
    "ExecuteTime": {
     "end_time": "2024-08-30T00:06:13.017366Z",
     "start_time": "2024-08-30T00:06:13.006286Z"
    }
   },
   "cell_type": "code",
   "source": "X.shape\n",
   "id": "2890d5d5aed1b737",
   "outputs": [
    {
     "data": {
      "text/plain": [
       "(150, 4)"
      ]
     },
     "execution_count": 9,
     "metadata": {},
     "output_type": "execute_result"
    }
   ],
   "execution_count": 9
  },
  {
   "metadata": {
    "ExecuteTime": {
     "end_time": "2024-08-30T00:06:15.252616Z",
     "start_time": "2024-08-30T00:06:15.242294Z"
    }
   },
   "cell_type": "code",
   "source": "y.shape",
   "id": "b0caccbb4c8cfa43",
   "outputs": [
    {
     "data": {
      "text/plain": [
       "(150,)"
      ]
     },
     "execution_count": 10,
     "metadata": {},
     "output_type": "execute_result"
    }
   ],
   "execution_count": 10
  },
  {
   "metadata": {
    "ExecuteTime": {
     "end_time": "2024-08-30T00:08:26.294869Z",
     "start_time": "2024-08-30T00:08:26.209579Z"
    }
   },
   "cell_type": "code",
   "source": [
    "X_train, X_test, y_train, y_test = train_test_split(X,y,test_size=0.3, random_state=42)\n",
    "scaler=StandardScaler()\n",
    "X_train=scaler.fit_transform(X_train)\n",
    "X_test=scaler.transform((X_test))"
   ],
   "id": "10da80bf6a516e9",
   "outputs": [],
   "execution_count": 11
  },
  {
   "metadata": {
    "ExecuteTime": {
     "end_time": "2024-08-30T00:09:22.888Z",
     "start_time": "2024-08-30T00:09:22.832161Z"
    }
   },
   "cell_type": "code",
   "source": [
    "svm = SVC(kernel='linear')\n",
    "\n",
    "svm.fit(X_train, y_train)"
   ],
   "id": "36cd1db4cd6ccfdb",
   "outputs": [
    {
     "data": {
      "text/plain": [
       "SVC(kernel='linear')"
      ]
     },
     "execution_count": 12,
     "metadata": {},
     "output_type": "execute_result"
    }
   ],
   "execution_count": 12
  },
  {
   "metadata": {
    "ExecuteTime": {
     "end_time": "2024-08-30T00:10:21.179659Z",
     "start_time": "2024-08-30T00:10:21.146446Z"
    }
   },
   "cell_type": "code",
   "source": "y_pred = svm.predict(X_test)",
   "id": "ccca7b6e2bbf8d18",
   "outputs": [],
   "execution_count": 13
  },
  {
   "metadata": {
    "ExecuteTime": {
     "end_time": "2024-08-30T00:10:43.786014Z",
     "start_time": "2024-08-30T00:10:43.753803Z"
    }
   },
   "cell_type": "code",
   "source": "accuracy=accuracy_score(y_test,y_pred)",
   "id": "86886a7fdd70081c",
   "outputs": [],
   "execution_count": 14
  },
  {
   "metadata": {
    "ExecuteTime": {
     "end_time": "2024-08-30T00:10:51.772757Z",
     "start_time": "2024-08-30T00:10:51.765005Z"
    }
   },
   "cell_type": "code",
   "source": "print(accuracy)",
   "id": "b5cec59606b81a90",
   "outputs": [
    {
     "name": "stdout",
     "output_type": "stream",
     "text": [
      "0.9777777777777777\n"
     ]
    }
   ],
   "execution_count": 15
  },
  {
   "metadata": {
    "ExecuteTime": {
     "end_time": "2024-08-30T00:15:23.011554Z",
     "start_time": "2024-08-30T00:15:22.888107Z"
    }
   },
   "cell_type": "code",
   "source": "print(classification_report(y_test, y_pred))",
   "id": "8cf06142c30b41e",
   "outputs": [
    {
     "name": "stdout",
     "output_type": "stream",
     "text": [
      "              precision    recall  f1-score   support\n",
      "\n",
      "           0       1.00      1.00      1.00        19\n",
      "           1       1.00      0.92      0.96        13\n",
      "           2       0.93      1.00      0.96        13\n",
      "\n",
      "    accuracy                           0.98        45\n",
      "   macro avg       0.98      0.97      0.97        45\n",
      "weighted avg       0.98      0.98      0.98        45\n",
      "\n"
     ]
    }
   ],
   "execution_count": 16
  },
  {
   "metadata": {
    "ExecuteTime": {
     "end_time": "2024-08-30T00:16:20.807787Z",
     "start_time": "2024-08-30T00:16:20.741992Z"
    }
   },
   "cell_type": "code",
   "source": "print(confusion_matrix(y_test,y_pred))",
   "id": "8f2a29b7c82cdac5",
   "outputs": [
    {
     "name": "stdout",
     "output_type": "stream",
     "text": [
      "[[19  0  0]\n",
      " [ 0 12  1]\n",
      " [ 0  0 13]]\n"
     ]
    }
   ],
   "execution_count": 17
  },
  {
   "metadata": {
    "ExecuteTime": {
     "end_time": "2024-08-30T00:18:35.522240Z",
     "start_time": "2024-08-30T00:18:35.027425Z"
    }
   },
   "cell_type": "code",
   "source": [
    "sns.heatmap(confusion_matrix(y_test,y_pred),annot=True, fmt='d', cmap=\"Reds\")\n",
    "plt.xlabel('prediccion')\n",
    "plt.ylabel('ralidad')\n",
    "plt.title('Matriz de confusion')\n",
    "plt.show()"
   ],
   "id": "ebd51efbc80866d7",
   "outputs": [
    {
     "data": {
      "text/plain": [
       "<Figure size 640x480 with 2 Axes>"
      ],
      "image/png": "[encoded data removed]"
     },
     "metadata": {},
     "output_type": "display_data"
    }
   ],
   "execution_count": 18
  },
  {
   "metadata": {},
   "cell_type": "code",
   "outputs": [],
   "execution_count": null,
   "source": "",
   "id": "38d8e1b0d6555b60"
  }
 ],
 "metadata": {
  "kernelspec": {
   "display_name": "Python 3",
   "language": "python",
   "name": "python3"
  },
  "language_info": {
   "codemirror_mode": {
    "name": "ipython",
    "version": 2
   },
   "file_extension": ".py",
   "mimetype": "text/x-python",
   "name": "python",
   "nbconvert_exporter": "python",
   "pygments_lexer": "ipython2",
   "version": "2.7.6"
  }
 },
 "nbformat": 4,
 "nbformat_minor": 5
}
